{
 "cells": [
  {
   "cell_type": "code",
   "execution_count": 1,
   "metadata": {},
   "outputs": [],
   "source": [
    "import requests\n",
    "\n"
   ]
  },
  {
   "cell_type": "code",
   "execution_count": 11,
   "metadata": {},
   "outputs": [
    {
     "name": "stdout",
     "output_type": "stream",
     "text": [
      "[{'id': 1, 'title': 'The Great Gatsby', 'author': 'F. Scott Fitzgerald', 'year': 1925}, {'id': 2, 'title': 'To Kill a Mockingbird', 'author': 'Harper Lee', 'year': 1960}, {'id': 3, 'title': '1984', 'author': 'George Orwell', 'year': 1949}, {'id': 4, 'title': 'Brave New World', 'author': 'Aldous Huxley', 'year': 1932}, {'id': 5, 'title': 'The Catcher in the Rye', 'author': 'J.D. Salinger', 'year': 1951}, {'id': 6, 'title': 'Pride and Prejudice', 'author': 'Jane Austen', 'year': 1813}, {'id': 7, 'title': 'The Hobbit', 'author': 'J.R.R. Tolkien', 'year': 1937}, {'id': 8, 'title': 'The Lord of the Rings', 'author': 'J.R.R. Tolkien', 'year': 1954}, {'id': 9, 'title': \"The Hitchhiker's Guide to the Galaxy\", 'author': 'Douglas Adams', 'year': 1979}, {'id': 10, 'title': 'The Shining', 'author': 'Stephen King', 'year': 1977}]\n"
     ]
    }
   ],
   "source": [
    "url_base     = \"http://localhost:8087\"\n",
    "url          = f\"{url_base}/book\"\n",
    "\n",
    "response = requests.get(url)\n",
    "if response.status_code == 200:\n",
    "    data = response.json()\n",
    "    print(data)\n",
    "else:\n",
    "    print(\"Error:\", response.status_code, response.json())"
   ]
  },
  {
   "attachments": {},
   "cell_type": "markdown",
   "metadata": {},
   "source": [
    "# Path Parameters"
   ]
  },
  {
   "cell_type": "code",
   "execution_count": 12,
   "metadata": {},
   "outputs": [
    {
     "name": "stdout",
     "output_type": "stream",
     "text": [
      "{'id': 3, 'title': '1984', 'author': 'George Orwell', 'year': 1949}\n"
     ]
    }
   ],
   "source": [
    "book_id      = 3\n",
    "url_base     = \"http://localhost:8087\"\n",
    "url          = f\"{url_base}/book/{book_id}\"\n",
    "\n",
    "response = requests.get(url)\n",
    "if response.status_code == 200:\n",
    "    data = response.json()\n",
    "    print(data)\n",
    "else:\n",
    "    print(\"Error:\", response.status_code, response.json())\n"
   ]
  },
  {
   "attachments": {},
   "cell_type": "markdown",
   "metadata": {},
   "source": [
    "# Query Parameters"
   ]
  },
  {
   "cell_type": "code",
   "execution_count": 18,
   "metadata": {},
   "outputs": [
    {
     "name": "stdout",
     "output_type": "stream",
     "text": [
      "{'books': [{'id': 7, 'title': 'The Hobbit', 'author': 'J.R.R. Tolkien', 'year': 1937}, {'id': 8, 'title': 'The Lord of the Rings', 'author': 'J.R.R. Tolkien', 'year': 1954}]}\n"
     ]
    }
   ],
   "source": [
    "import requests\n",
    "\n",
    "url_base     = \"http://localhost:8087\"\n",
    "url          = f\"{url_base}/search\"\n",
    "\n",
    "\n",
    "params = {\n",
    "    \"title\": \"the\",\n",
    "    \"author\": \"tolkien\"\n",
    "}\n",
    "\n",
    "response = requests.get(url, params=params)\n",
    "if response.status_code == 200:\n",
    "    data = response.json()\n",
    "    print(data)\n",
    "else:\n",
    "    print(\"Error:\", response.status_code, response.json())"
   ]
  },
  {
   "cell_type": "code",
   "execution_count": null,
   "metadata": {},
   "outputs": [],
   "source": []
  }
 ],
 "metadata": {
  "kernelspec": {
   "display_name": "tr",
   "language": "python",
   "name": "python3"
  },
  "language_info": {
   "codemirror_mode": {
    "name": "ipython",
    "version": 3
   },
   "file_extension": ".py",
   "mimetype": "text/x-python",
   "name": "python",
   "nbconvert_exporter": "python",
   "pygments_lexer": "ipython3",
   "version": "3.9.16"
  },
  "orig_nbformat": 4
 },
 "nbformat": 4,
 "nbformat_minor": 2
}
